{
  "nbformat": 4,
  "nbformat_minor": 0,
  "metadata": {
    "colab": {
      "provenance": [],
      "toc_visible": true
    },
    "kernelspec": {
      "name": "python3",
      "display_name": "Python 3"
    },
    "language_info": {
      "name": "python"
    }
  },
  "cells": [
    {
      "cell_type": "markdown",
      "source": [
        "# *1. Instalar paquetes necesarios*"
      ],
      "metadata": {
        "id": "r1jXEKysXFMr"
      }
    },
    {
      "cell_type": "code",
      "execution_count": 1,
      "metadata": {
        "colab": {
          "base_uri": "https://localhost:8080/"
        },
        "id": "bmdW97vgW9Iv",
        "outputId": "49fad1ec-3bbd-4a09-de81-592c265f2592"
      },
      "outputs": [
        {
          "output_type": "stream",
          "name": "stdout",
          "text": [
            "Collecting mysql-connector-python\n",
            "  Downloading mysql_connector_python-9.3.0-cp311-cp311-manylinux_2_28_x86_64.whl.metadata (7.2 kB)\n",
            "Requirement already satisfied: openpyxl in /usr/local/lib/python3.11/dist-packages (3.1.5)\n",
            "Requirement already satisfied: geopandas in /usr/local/lib/python3.11/dist-packages (1.0.1)\n",
            "Requirement already satisfied: folium in /usr/local/lib/python3.11/dist-packages (0.19.7)\n",
            "Requirement already satisfied: et-xmlfile in /usr/local/lib/python3.11/dist-packages (from openpyxl) (2.0.0)\n",
            "Requirement already satisfied: numpy>=1.22 in /usr/local/lib/python3.11/dist-packages (from geopandas) (2.0.2)\n",
            "Requirement already satisfied: pyogrio>=0.7.2 in /usr/local/lib/python3.11/dist-packages (from geopandas) (0.11.0)\n",
            "Requirement already satisfied: packaging in /usr/local/lib/python3.11/dist-packages (from geopandas) (24.2)\n",
            "Requirement already satisfied: pandas>=1.4.0 in /usr/local/lib/python3.11/dist-packages (from geopandas) (2.2.2)\n",
            "Requirement already satisfied: pyproj>=3.3.0 in /usr/local/lib/python3.11/dist-packages (from geopandas) (3.7.1)\n",
            "Requirement already satisfied: shapely>=2.0.0 in /usr/local/lib/python3.11/dist-packages (from geopandas) (2.1.1)\n",
            "Requirement already satisfied: branca>=0.6.0 in /usr/local/lib/python3.11/dist-packages (from folium) (0.8.1)\n",
            "Requirement already satisfied: jinja2>=2.9 in /usr/local/lib/python3.11/dist-packages (from folium) (3.1.6)\n",
            "Requirement already satisfied: requests in /usr/local/lib/python3.11/dist-packages (from folium) (2.32.3)\n",
            "Requirement already satisfied: xyzservices in /usr/local/lib/python3.11/dist-packages (from folium) (2025.4.0)\n",
            "Requirement already satisfied: MarkupSafe>=2.0 in /usr/local/lib/python3.11/dist-packages (from jinja2>=2.9->folium) (3.0.2)\n",
            "Requirement already satisfied: python-dateutil>=2.8.2 in /usr/local/lib/python3.11/dist-packages (from pandas>=1.4.0->geopandas) (2.9.0.post0)\n",
            "Requirement already satisfied: pytz>=2020.1 in /usr/local/lib/python3.11/dist-packages (from pandas>=1.4.0->geopandas) (2025.2)\n",
            "Requirement already satisfied: tzdata>=2022.7 in /usr/local/lib/python3.11/dist-packages (from pandas>=1.4.0->geopandas) (2025.2)\n",
            "Requirement already satisfied: certifi in /usr/local/lib/python3.11/dist-packages (from pyogrio>=0.7.2->geopandas) (2025.4.26)\n",
            "Requirement already satisfied: charset-normalizer<4,>=2 in /usr/local/lib/python3.11/dist-packages (from requests->folium) (3.4.2)\n",
            "Requirement already satisfied: idna<4,>=2.5 in /usr/local/lib/python3.11/dist-packages (from requests->folium) (3.10)\n",
            "Requirement already satisfied: urllib3<3,>=1.21.1 in /usr/local/lib/python3.11/dist-packages (from requests->folium) (2.4.0)\n",
            "Requirement already satisfied: six>=1.5 in /usr/local/lib/python3.11/dist-packages (from python-dateutil>=2.8.2->pandas>=1.4.0->geopandas) (1.17.0)\n",
            "Downloading mysql_connector_python-9.3.0-cp311-cp311-manylinux_2_28_x86_64.whl (33.9 MB)\n",
            "\u001b[2K   \u001b[90m━━━━━━━━━━━━━━━━━━━━━━━━━━━━━━━━━━━━━━━━\u001b[0m \u001b[32m33.9/33.9 MB\u001b[0m \u001b[31m15.8 MB/s\u001b[0m eta \u001b[36m0:00:00\u001b[0m\n",
            "\u001b[?25hInstalling collected packages: mysql-connector-python\n",
            "Successfully installed mysql-connector-python-9.3.0\n"
          ]
        }
      ],
      "source": [
        "''' Instale paquetes de MySQL y de lectura de archivos\n",
        "    de Excel, y de geoanalitica'''\n",
        "\n",
        "!pip install mysql-connector-python openpyxl geopandas folium # Son estos los paquetes"
      ]
    },
    {
      "cell_type": "markdown",
      "source": [
        "# *2. Importar posibles librerías necesarias*"
      ],
      "metadata": {
        "id": "IO9owYYQYS4s"
      }
    },
    {
      "cell_type": "code",
      "source": [
        "''' Importar aquí las librerías necesarias'''\n",
        "\n",
        "import mysql.connector          #Para conectarse a SQL\n",
        "import pandas as pd             #Para manipular los datos\n",
        "import os                       #Interacción con la máquina\n",
        "import glob                     #Encontrar ruta\n",
        "import re                       #Encontrar patrones de texto\n",
        "import matplotlib.pyplot as plt #Hacer Gráficos\n",
        "import numpy as np              #Hacer operaciones con los datos\n",
        "import geopandas as gpd         #Hacer Geo analitica"
      ],
      "metadata": {
        "id": "Y_Z578jZYYXs"
      },
      "execution_count": 2,
      "outputs": []
    },
    {
      "cell_type": "markdown",
      "source": [
        "# *3. Conceder permiso a Google drive para acceder a los archivos subidos*"
      ],
      "metadata": {
        "id": "HYcbsWt3Z0DL"
      }
    },
    {
      "cell_type": "code",
      "source": [
        "''' Conceder permiso a Google drive para acceder a los archivos subidos'''\n",
        "from google.colab import drive\n",
        "drive.mount('/content/drive')"
      ],
      "metadata": {
        "colab": {
          "base_uri": "https://localhost:8080/"
        },
        "id": "1g2pd3YzaHgj",
        "outputId": "ae6b1760-cf24-4b79-c612-a9caa4f7e729"
      },
      "execution_count": 3,
      "outputs": [
        {
          "output_type": "stream",
          "name": "stdout",
          "text": [
            "Drive already mounted at /content/drive; to attempt to forcibly remount, call drive.mount(\"/content/drive\", force_remount=True).\n"
          ]
        }
      ]
    },
    {
      "cell_type": "markdown",
      "source": [
        "# *4. Leer las rutas de los archivos en Google Drive*"
      ],
      "metadata": {
        "id": "n46X82kLa29a"
      }
    },
    {
      "cell_type": "code",
      "source": [
        "''' Estas son la rutas donde estan los 3 grupos de archivos'''\n",
        "\n",
        "ruta_admitidos = \"/content/drive/MyDrive/Curso Talento Tech/Proyecto Bootcamp/Bases de Datos/Admitidos\"\n",
        "ruta_matriculados = \"/content/drive/MyDrive/Curso Talento Tech/Proyecto Bootcamp/Bases de Datos/Matriculados 1er Curso\"\n",
        "ruta_graduados = \"/content/drive/MyDrive/Curso Talento Tech/Proyecto Bootcamp/Bases de Datos/Graduados\"\n",
        "ruta_drivers = \"/content/drive/MyDrive/Curso Talento Tech/Proyecto Bootcamp/Bases de Datos/Drivers/Columnas Modelo.xlsx\""
      ],
      "metadata": {
        "id": "AuL59m_dcSO9"
      },
      "execution_count": 4,
      "outputs": []
    },
    {
      "cell_type": "markdown",
      "source": [
        "# *5. Leer los archivos en cada carpeta y concaternalos para crear 3 dataframes distintos*"
      ],
      "metadata": {
        "id": "FfJrXSslc6e3"
      }
    },
    {
      "cell_type": "code",
      "source": [
        "''' Tomar del archivo ruta_drivers (que es un .xlsx) cada hoja por individual\n",
        "    y crear un dataframe por cada hoja'''\n",
        "\n",
        "# Driver 1\n",
        "df_columnas_finales = pd.read_excel(ruta_drivers, sheet_name=\"Columnas_Que_Sobreviven\")\n",
        "df_columnas_finales = df_columnas_finales[df_columnas_finales[\"Cuales sobreviven\"] == \"x\"]\n",
        "# Creo la lista de las columnas que quedan finalmente\n",
        "columnas_que_se_quedan = df_columnas_finales[\"Nombres Ajustados\"].tolist()\n",
        "\n",
        "# Driver 2\n",
        "df_nombres_ajustados = pd.read_excel(ruta_drivers, sheet_name=\"Nombres_Columnas\")\n",
        "# Creo un diccionario que ajusta los nombres\n",
        "diccionario_nombres = df_nombres_ajustados.set_index(\"Posibles Nombres Columnas\")[\"Nombres Ajustados\"].to_dict()"
      ],
      "metadata": {
        "id": "4iQyXKr37PqN"
      },
      "execution_count": 5,
      "outputs": []
    },
    {
      "cell_type": "code",
      "source": [
        "''' Crear una función que lea los archivos xlsx\n",
        "    en una ruta de drive y cree un dataframe por cada archivo\n",
        "    y ajuste los nombres de las columnas '''\n",
        "\n",
        "# Esta función tiene como objetivo leer los archivos en una ruta y crear\n",
        "# un dataframe por cada archivo\n",
        "\n",
        "def concat_archivos(ruta):\n",
        "  archivos = glob.glob(os.path.join(ruta, \"*.xlsx\"))\n",
        "  lista_df = []\n",
        "  for archivo in archivos:\n",
        "    df = pd.read_excel(archivo)\n",
        "    df = df.rename(columns=diccionario_nombres)\n",
        "    lista_df.append(df)\n",
        "  df_concat = pd.concat(lista_df)\n",
        "  return df_concat"
      ],
      "metadata": {
        "id": "pq9aGTMBeEVx"
      },
      "execution_count": 6,
      "outputs": []
    },
    {
      "cell_type": "code",
      "source": [
        "''' Crear los 3 Dataframes en función de las rutas asignadas'''\n",
        "\n",
        "df_admitidos = concat_archivos(ruta_admitidos)\n",
        "df_matriculados = concat_archivos(ruta_matriculados)\n",
        "df_graduados = concat_archivos(ruta_graduados)"
      ],
      "metadata": {
        "id": "a5-YoQQni-W1"
      },
      "execution_count": 7,
      "outputs": []
    },
    {
      "cell_type": "code",
      "source": [
        "''' Ajustar bases de graduados, admitidos y matriculados'''\n",
        "\n",
        "#Base graduados\n",
        "columnas_existentes1 = [col for col in columnas_que_se_quedan if col in df_graduados.columns]\n",
        "df_graduados = df_graduados[columnas_existentes1]\n",
        "\n",
        "#Base admitidos\n",
        "columnas_existentes2 = [col for col in columnas_que_se_quedan if col in df_admitidos.columns]\n",
        "df_admitidos = df_admitidos[columnas_existentes2]\n",
        "\n",
        "#Base matriculados\n",
        "columnas_existentes3 = [col for col in columnas_que_se_quedan if col in df_matriculados.columns]\n",
        "df_matriculados = df_matriculados[columnas_existentes3]\n",
        "\n",
        "#Crear un dataframe final\n",
        "df_Total = pd.concat([df_graduados, df_admitidos, df_matriculados])"
      ],
      "metadata": {
        "collapsed": true,
        "id": "B_tjKbX1lYne"
      },
      "execution_count": 8,
      "outputs": []
    },
    {
      "cell_type": "markdown",
      "source": [
        "# *6. Filtrar y validar datos del dataframe final que se piensa usar*"
      ],
      "metadata": {
        "id": "DjJh7EewaXp2"
      }
    },
    {
      "cell_type": "code",
      "source": [
        "# Filtar con el campo ID CINE Amplio el número 6\n",
        "\n",
        "df_Total = df_Total[df_Total['ID CINE CAMPO AMPLIO'] == 6]"
      ],
      "metadata": {
        "id": "8lxgPk2RLHCG"
      },
      "execution_count": 9,
      "outputs": []
    },
    {
      "cell_type": "code",
      "source": [
        "# Ver estructura del dataframe\n",
        "df_Total.head()"
      ],
      "metadata": {
        "colab": {
          "base_uri": "https://localhost:8080/",
          "height": 672
        },
        "id": "sJM4X-vXSQf7",
        "outputId": "d90f712c-4d4e-40b4-d77b-0c02c7bb521a"
      },
      "execution_count": 10,
      "outputs": [
        {
          "output_type": "execute_result",
          "data": {
            "text/plain": [
              "     IES PADRE INSTITUCIÓN DE EDUCACIÓN SUPERIOR (IES)  ID SECTOR IES  \\\n",
              "448     1101.0        UNIVERSIDAD NACIONAL DE COLOMBIA            1.0   \n",
              "449     1101.0        UNIVERSIDAD NACIONAL DE COLOMBIA            1.0   \n",
              "495     1101.0        UNIVERSIDAD NACIONAL DE COLOMBIA            1.0   \n",
              "496     1101.0        UNIVERSIDAD NACIONAL DE COLOMBIA            1.0   \n",
              "575     1101.0        UNIVERSIDAD NACIONAL DE COLOMBIA            1.0   \n",
              "\n",
              "    SECTOR IES  ID CARÁCTER IES CARÁCTER IES  ID NIVEL ACADÉMICO  \\\n",
              "448    OFICIAL              4.0  Universidad                 2.0   \n",
              "449    OFICIAL              4.0  Universidad                 2.0   \n",
              "495    OFICIAL              4.0  Universidad                 2.0   \n",
              "496    OFICIAL              4.0  Universidad                 2.0   \n",
              "575    OFICIAL              4.0  Universidad                 2.0   \n",
              "\n",
              "    NIVEL ACADÉMICO  ID NIVEL DE FORMACIÓN             NIVEL DE FORMACIÓN  \\\n",
              "448        POSGRADO                    2.0                       Maestría   \n",
              "449        POSGRADO                    2.0                       Maestría   \n",
              "495        POSGRADO                    3.0                      Doctorado   \n",
              "496        POSGRADO                    3.0                      Doctorado   \n",
              "575        POSGRADO                    1.0  Especialización universitaria   \n",
              "\n",
              "     ...                             DESC CINE CAMPO AMPLIO  \\\n",
              "448  ...  Tecnologías de la Información y la Comunicació...   \n",
              "449  ...  Tecnologías de la Información y la Comunicació...   \n",
              "495  ...  Tecnologías de la Información y la Comunicació...   \n",
              "496  ...  Tecnologías de la Información y la Comunicació...   \n",
              "575  ...  Tecnologías de la Información y la Comunicació...   \n",
              "\n",
              "    CÓDIGO DEL DEPARTAMENTO (PROGRAMA)  DEPARTAMENTO DE OFERTA DEL PROGRAMA  \\\n",
              "448                               11.0                         Bogotá, D.C.   \n",
              "449                               11.0                         Bogotá, D.C.   \n",
              "495                               11.0                         Bogotá, D.C.   \n",
              "496                               11.0                         Bogotá, D.C.   \n",
              "575                               11.0                         Bogotá, D.C.   \n",
              "\n",
              "    ID SEXO    SEXO     AÑO SEMESTRE GRADUADOS ADMITIDOS  PRIMER CURSO  \n",
              "448     1.0  Hombre  2021.0      2.0       7.0       NaN           NaN  \n",
              "449     2.0   Mujer  2021.0      2.0       1.0       NaN           NaN  \n",
              "495     1.0  Hombre  2021.0      1.0       1.0       NaN           NaN  \n",
              "496     1.0  Hombre  2021.0      2.0       2.0       NaN           NaN  \n",
              "575     1.0  Hombre  2021.0      1.0       3.0       NaN           NaN  \n",
              "\n",
              "[5 rows x 23 columns]"
            ],
            "text/html": [
              "\n",
              "  <div id=\"df-dbb7da39-56a0-44d1-a8d5-fb397a8f569c\" class=\"colab-df-container\">\n",
              "    <div>\n",
              "<style scoped>\n",
              "    .dataframe tbody tr th:only-of-type {\n",
              "        vertical-align: middle;\n",
              "    }\n",
              "\n",
              "    .dataframe tbody tr th {\n",
              "        vertical-align: top;\n",
              "    }\n",
              "\n",
              "    .dataframe thead th {\n",
              "        text-align: right;\n",
              "    }\n",
              "</style>\n",
              "<table border=\"1\" class=\"dataframe\">\n",
              "  <thead>\n",
              "    <tr style=\"text-align: right;\">\n",
              "      <th></th>\n",
              "      <th>IES PADRE</th>\n",
              "      <th>INSTITUCIÓN DE EDUCACIÓN SUPERIOR (IES)</th>\n",
              "      <th>ID SECTOR IES</th>\n",
              "      <th>SECTOR IES</th>\n",
              "      <th>ID CARÁCTER IES</th>\n",
              "      <th>CARÁCTER IES</th>\n",
              "      <th>ID NIVEL ACADÉMICO</th>\n",
              "      <th>NIVEL ACADÉMICO</th>\n",
              "      <th>ID NIVEL DE FORMACIÓN</th>\n",
              "      <th>NIVEL DE FORMACIÓN</th>\n",
              "      <th>...</th>\n",
              "      <th>DESC CINE CAMPO AMPLIO</th>\n",
              "      <th>CÓDIGO DEL DEPARTAMENTO (PROGRAMA)</th>\n",
              "      <th>DEPARTAMENTO DE OFERTA DEL PROGRAMA</th>\n",
              "      <th>ID SEXO</th>\n",
              "      <th>SEXO</th>\n",
              "      <th>AÑO</th>\n",
              "      <th>SEMESTRE</th>\n",
              "      <th>GRADUADOS</th>\n",
              "      <th>ADMITIDOS</th>\n",
              "      <th>PRIMER CURSO</th>\n",
              "    </tr>\n",
              "  </thead>\n",
              "  <tbody>\n",
              "    <tr>\n",
              "      <th>448</th>\n",
              "      <td>1101.0</td>\n",
              "      <td>UNIVERSIDAD NACIONAL DE COLOMBIA</td>\n",
              "      <td>1.0</td>\n",
              "      <td>OFICIAL</td>\n",
              "      <td>4.0</td>\n",
              "      <td>Universidad</td>\n",
              "      <td>2.0</td>\n",
              "      <td>POSGRADO</td>\n",
              "      <td>2.0</td>\n",
              "      <td>Maestría</td>\n",
              "      <td>...</td>\n",
              "      <td>Tecnologías de la Información y la Comunicació...</td>\n",
              "      <td>11.0</td>\n",
              "      <td>Bogotá, D.C.</td>\n",
              "      <td>1.0</td>\n",
              "      <td>Hombre</td>\n",
              "      <td>2021.0</td>\n",
              "      <td>2.0</td>\n",
              "      <td>7.0</td>\n",
              "      <td>NaN</td>\n",
              "      <td>NaN</td>\n",
              "    </tr>\n",
              "    <tr>\n",
              "      <th>449</th>\n",
              "      <td>1101.0</td>\n",
              "      <td>UNIVERSIDAD NACIONAL DE COLOMBIA</td>\n",
              "      <td>1.0</td>\n",
              "      <td>OFICIAL</td>\n",
              "      <td>4.0</td>\n",
              "      <td>Universidad</td>\n",
              "      <td>2.0</td>\n",
              "      <td>POSGRADO</td>\n",
              "      <td>2.0</td>\n",
              "      <td>Maestría</td>\n",
              "      <td>...</td>\n",
              "      <td>Tecnologías de la Información y la Comunicació...</td>\n",
              "      <td>11.0</td>\n",
              "      <td>Bogotá, D.C.</td>\n",
              "      <td>2.0</td>\n",
              "      <td>Mujer</td>\n",
              "      <td>2021.0</td>\n",
              "      <td>2.0</td>\n",
              "      <td>1.0</td>\n",
              "      <td>NaN</td>\n",
              "      <td>NaN</td>\n",
              "    </tr>\n",
              "    <tr>\n",
              "      <th>495</th>\n",
              "      <td>1101.0</td>\n",
              "      <td>UNIVERSIDAD NACIONAL DE COLOMBIA</td>\n",
              "      <td>1.0</td>\n",
              "      <td>OFICIAL</td>\n",
              "      <td>4.0</td>\n",
              "      <td>Universidad</td>\n",
              "      <td>2.0</td>\n",
              "      <td>POSGRADO</td>\n",
              "      <td>3.0</td>\n",
              "      <td>Doctorado</td>\n",
              "      <td>...</td>\n",
              "      <td>Tecnologías de la Información y la Comunicació...</td>\n",
              "      <td>11.0</td>\n",
              "      <td>Bogotá, D.C.</td>\n",
              "      <td>1.0</td>\n",
              "      <td>Hombre</td>\n",
              "      <td>2021.0</td>\n",
              "      <td>1.0</td>\n",
              "      <td>1.0</td>\n",
              "      <td>NaN</td>\n",
              "      <td>NaN</td>\n",
              "    </tr>\n",
              "    <tr>\n",
              "      <th>496</th>\n",
              "      <td>1101.0</td>\n",
              "      <td>UNIVERSIDAD NACIONAL DE COLOMBIA</td>\n",
              "      <td>1.0</td>\n",
              "      <td>OFICIAL</td>\n",
              "      <td>4.0</td>\n",
              "      <td>Universidad</td>\n",
              "      <td>2.0</td>\n",
              "      <td>POSGRADO</td>\n",
              "      <td>3.0</td>\n",
              "      <td>Doctorado</td>\n",
              "      <td>...</td>\n",
              "      <td>Tecnologías de la Información y la Comunicació...</td>\n",
              "      <td>11.0</td>\n",
              "      <td>Bogotá, D.C.</td>\n",
              "      <td>1.0</td>\n",
              "      <td>Hombre</td>\n",
              "      <td>2021.0</td>\n",
              "      <td>2.0</td>\n",
              "      <td>2.0</td>\n",
              "      <td>NaN</td>\n",
              "      <td>NaN</td>\n",
              "    </tr>\n",
              "    <tr>\n",
              "      <th>575</th>\n",
              "      <td>1101.0</td>\n",
              "      <td>UNIVERSIDAD NACIONAL DE COLOMBIA</td>\n",
              "      <td>1.0</td>\n",
              "      <td>OFICIAL</td>\n",
              "      <td>4.0</td>\n",
              "      <td>Universidad</td>\n",
              "      <td>2.0</td>\n",
              "      <td>POSGRADO</td>\n",
              "      <td>1.0</td>\n",
              "      <td>Especialización universitaria</td>\n",
              "      <td>...</td>\n",
              "      <td>Tecnologías de la Información y la Comunicació...</td>\n",
              "      <td>11.0</td>\n",
              "      <td>Bogotá, D.C.</td>\n",
              "      <td>1.0</td>\n",
              "      <td>Hombre</td>\n",
              "      <td>2021.0</td>\n",
              "      <td>1.0</td>\n",
              "      <td>3.0</td>\n",
              "      <td>NaN</td>\n",
              "      <td>NaN</td>\n",
              "    </tr>\n",
              "  </tbody>\n",
              "</table>\n",
              "<p>5 rows × 23 columns</p>\n",
              "</div>\n",
              "    <div class=\"colab-df-buttons\">\n",
              "\n",
              "  <div class=\"colab-df-container\">\n",
              "    <button class=\"colab-df-convert\" onclick=\"convertToInteractive('df-dbb7da39-56a0-44d1-a8d5-fb397a8f569c')\"\n",
              "            title=\"Convert this dataframe to an interactive table.\"\n",
              "            style=\"display:none;\">\n",
              "\n",
              "  <svg xmlns=\"http://www.w3.org/2000/svg\" height=\"24px\" viewBox=\"0 -960 960 960\">\n",
              "    <path d=\"M120-120v-720h720v720H120Zm60-500h600v-160H180v160Zm220 220h160v-160H400v160Zm0 220h160v-160H400v160ZM180-400h160v-160H180v160Zm440 0h160v-160H620v160ZM180-180h160v-160H180v160Zm440 0h160v-160H620v160Z\"/>\n",
              "  </svg>\n",
              "    </button>\n",
              "\n",
              "  <style>\n",
              "    .colab-df-container {\n",
              "      display:flex;\n",
              "      gap: 12px;\n",
              "    }\n",
              "\n",
              "    .colab-df-convert {\n",
              "      background-color: #E8F0FE;\n",
              "      border: none;\n",
              "      border-radius: 50%;\n",
              "      cursor: pointer;\n",
              "      display: none;\n",
              "      fill: #1967D2;\n",
              "      height: 32px;\n",
              "      padding: 0 0 0 0;\n",
              "      width: 32px;\n",
              "    }\n",
              "\n",
              "    .colab-df-convert:hover {\n",
              "      background-color: #E2EBFA;\n",
              "      box-shadow: 0px 1px 2px rgba(60, 64, 67, 0.3), 0px 1px 3px 1px rgba(60, 64, 67, 0.15);\n",
              "      fill: #174EA6;\n",
              "    }\n",
              "\n",
              "    .colab-df-buttons div {\n",
              "      margin-bottom: 4px;\n",
              "    }\n",
              "\n",
              "    [theme=dark] .colab-df-convert {\n",
              "      background-color: #3B4455;\n",
              "      fill: #D2E3FC;\n",
              "    }\n",
              "\n",
              "    [theme=dark] .colab-df-convert:hover {\n",
              "      background-color: #434B5C;\n",
              "      box-shadow: 0px 1px 3px 1px rgba(0, 0, 0, 0.15);\n",
              "      filter: drop-shadow(0px 1px 2px rgba(0, 0, 0, 0.3));\n",
              "      fill: #FFFFFF;\n",
              "    }\n",
              "  </style>\n",
              "\n",
              "    <script>\n",
              "      const buttonEl =\n",
              "        document.querySelector('#df-dbb7da39-56a0-44d1-a8d5-fb397a8f569c button.colab-df-convert');\n",
              "      buttonEl.style.display =\n",
              "        google.colab.kernel.accessAllowed ? 'block' : 'none';\n",
              "\n",
              "      async function convertToInteractive(key) {\n",
              "        const element = document.querySelector('#df-dbb7da39-56a0-44d1-a8d5-fb397a8f569c');\n",
              "        const dataTable =\n",
              "          await google.colab.kernel.invokeFunction('convertToInteractive',\n",
              "                                                    [key], {});\n",
              "        if (!dataTable) return;\n",
              "\n",
              "        const docLinkHtml = 'Like what you see? Visit the ' +\n",
              "          '<a target=\"_blank\" href=https://colab.research.google.com/notebooks/data_table.ipynb>data table notebook</a>'\n",
              "          + ' to learn more about interactive tables.';\n",
              "        element.innerHTML = '';\n",
              "        dataTable['output_type'] = 'display_data';\n",
              "        await google.colab.output.renderOutput(dataTable, element);\n",
              "        const docLink = document.createElement('div');\n",
              "        docLink.innerHTML = docLinkHtml;\n",
              "        element.appendChild(docLink);\n",
              "      }\n",
              "    </script>\n",
              "  </div>\n",
              "\n",
              "\n",
              "    <div id=\"df-5d9a9969-40c7-48f5-bd2a-7c0381132b5a\">\n",
              "      <button class=\"colab-df-quickchart\" onclick=\"quickchart('df-5d9a9969-40c7-48f5-bd2a-7c0381132b5a')\"\n",
              "                title=\"Suggest charts\"\n",
              "                style=\"display:none;\">\n",
              "\n",
              "<svg xmlns=\"http://www.w3.org/2000/svg\" height=\"24px\"viewBox=\"0 0 24 24\"\n",
              "     width=\"24px\">\n",
              "    <g>\n",
              "        <path d=\"M19 3H5c-1.1 0-2 .9-2 2v14c0 1.1.9 2 2 2h14c1.1 0 2-.9 2-2V5c0-1.1-.9-2-2-2zM9 17H7v-7h2v7zm4 0h-2V7h2v10zm4 0h-2v-4h2v4z\"/>\n",
              "    </g>\n",
              "</svg>\n",
              "      </button>\n",
              "\n",
              "<style>\n",
              "  .colab-df-quickchart {\n",
              "      --bg-color: #E8F0FE;\n",
              "      --fill-color: #1967D2;\n",
              "      --hover-bg-color: #E2EBFA;\n",
              "      --hover-fill-color: #174EA6;\n",
              "      --disabled-fill-color: #AAA;\n",
              "      --disabled-bg-color: #DDD;\n",
              "  }\n",
              "\n",
              "  [theme=dark] .colab-df-quickchart {\n",
              "      --bg-color: #3B4455;\n",
              "      --fill-color: #D2E3FC;\n",
              "      --hover-bg-color: #434B5C;\n",
              "      --hover-fill-color: #FFFFFF;\n",
              "      --disabled-bg-color: #3B4455;\n",
              "      --disabled-fill-color: #666;\n",
              "  }\n",
              "\n",
              "  .colab-df-quickchart {\n",
              "    background-color: var(--bg-color);\n",
              "    border: none;\n",
              "    border-radius: 50%;\n",
              "    cursor: pointer;\n",
              "    display: none;\n",
              "    fill: var(--fill-color);\n",
              "    height: 32px;\n",
              "    padding: 0;\n",
              "    width: 32px;\n",
              "  }\n",
              "\n",
              "  .colab-df-quickchart:hover {\n",
              "    background-color: var(--hover-bg-color);\n",
              "    box-shadow: 0 1px 2px rgba(60, 64, 67, 0.3), 0 1px 3px 1px rgba(60, 64, 67, 0.15);\n",
              "    fill: var(--button-hover-fill-color);\n",
              "  }\n",
              "\n",
              "  .colab-df-quickchart-complete:disabled,\n",
              "  .colab-df-quickchart-complete:disabled:hover {\n",
              "    background-color: var(--disabled-bg-color);\n",
              "    fill: var(--disabled-fill-color);\n",
              "    box-shadow: none;\n",
              "  }\n",
              "\n",
              "  .colab-df-spinner {\n",
              "    border: 2px solid var(--fill-color);\n",
              "    border-color: transparent;\n",
              "    border-bottom-color: var(--fill-color);\n",
              "    animation:\n",
              "      spin 1s steps(1) infinite;\n",
              "  }\n",
              "\n",
              "  @keyframes spin {\n",
              "    0% {\n",
              "      border-color: transparent;\n",
              "      border-bottom-color: var(--fill-color);\n",
              "      border-left-color: var(--fill-color);\n",
              "    }\n",
              "    20% {\n",
              "      border-color: transparent;\n",
              "      border-left-color: var(--fill-color);\n",
              "      border-top-color: var(--fill-color);\n",
              "    }\n",
              "    30% {\n",
              "      border-color: transparent;\n",
              "      border-left-color: var(--fill-color);\n",
              "      border-top-color: var(--fill-color);\n",
              "      border-right-color: var(--fill-color);\n",
              "    }\n",
              "    40% {\n",
              "      border-color: transparent;\n",
              "      border-right-color: var(--fill-color);\n",
              "      border-top-color: var(--fill-color);\n",
              "    }\n",
              "    60% {\n",
              "      border-color: transparent;\n",
              "      border-right-color: var(--fill-color);\n",
              "    }\n",
              "    80% {\n",
              "      border-color: transparent;\n",
              "      border-right-color: var(--fill-color);\n",
              "      border-bottom-color: var(--fill-color);\n",
              "    }\n",
              "    90% {\n",
              "      border-color: transparent;\n",
              "      border-bottom-color: var(--fill-color);\n",
              "    }\n",
              "  }\n",
              "</style>\n",
              "\n",
              "      <script>\n",
              "        async function quickchart(key) {\n",
              "          const quickchartButtonEl =\n",
              "            document.querySelector('#' + key + ' button');\n",
              "          quickchartButtonEl.disabled = true;  // To prevent multiple clicks.\n",
              "          quickchartButtonEl.classList.add('colab-df-spinner');\n",
              "          try {\n",
              "            const charts = await google.colab.kernel.invokeFunction(\n",
              "                'suggestCharts', [key], {});\n",
              "          } catch (error) {\n",
              "            console.error('Error during call to suggestCharts:', error);\n",
              "          }\n",
              "          quickchartButtonEl.classList.remove('colab-df-spinner');\n",
              "          quickchartButtonEl.classList.add('colab-df-quickchart-complete');\n",
              "        }\n",
              "        (() => {\n",
              "          let quickchartButtonEl =\n",
              "            document.querySelector('#df-5d9a9969-40c7-48f5-bd2a-7c0381132b5a button');\n",
              "          quickchartButtonEl.style.display =\n",
              "            google.colab.kernel.accessAllowed ? 'block' : 'none';\n",
              "        })();\n",
              "      </script>\n",
              "    </div>\n",
              "\n",
              "    </div>\n",
              "  </div>\n"
            ],
            "application/vnd.google.colaboratory.intrinsic+json": {
              "type": "dataframe",
              "variable_name": "df_Total"
            }
          },
          "metadata": {},
          "execution_count": 10
        }
      ]
    },
    {
      "cell_type": "code",
      "source": [
        "# Validar información en columnas\n",
        "df_Total.info()"
      ],
      "metadata": {
        "colab": {
          "base_uri": "https://localhost:8080/"
        },
        "id": "p5P3zbTma2v8",
        "outputId": "c6716a57-7506-4fb5-98bc-b469d80577a0"
      },
      "execution_count": 11,
      "outputs": [
        {
          "output_type": "stream",
          "name": "stdout",
          "text": [
            "<class 'pandas.core.frame.DataFrame'>\n",
            "Index: 44895 entries, 448 to 44246\n",
            "Data columns (total 23 columns):\n",
            " #   Column                                   Non-Null Count  Dtype  \n",
            "---  ------                                   --------------  -----  \n",
            " 0   IES PADRE                                44895 non-null  float64\n",
            " 1   INSTITUCIÓN DE EDUCACIÓN SUPERIOR (IES)  44895 non-null  object \n",
            " 2   ID SECTOR IES                            44895 non-null  float64\n",
            " 3   SECTOR IES                               44895 non-null  object \n",
            " 4   ID CARÁCTER IES                          44895 non-null  float64\n",
            " 5   CARÁCTER IES                             44895 non-null  object \n",
            " 6   ID NIVEL ACADÉMICO                       44895 non-null  float64\n",
            " 7   NIVEL ACADÉMICO                          44895 non-null  object \n",
            " 8   ID NIVEL DE FORMACIÓN                    44895 non-null  float64\n",
            " 9   NIVEL DE FORMACIÓN                       44895 non-null  object \n",
            " 10  ID MODALIDAD                             44895 non-null  float64\n",
            " 11  MODALIDAD                                44895 non-null  object \n",
            " 12  ID CINE CAMPO AMPLIO                     44895 non-null  float64\n",
            " 13  DESC CINE CAMPO AMPLIO                   44895 non-null  object \n",
            " 14  CÓDIGO DEL DEPARTAMENTO (PROGRAMA)       44895 non-null  float64\n",
            " 15  DEPARTAMENTO DE OFERTA DEL PROGRAMA      44895 non-null  object \n",
            " 16  ID SEXO                                  44895 non-null  object \n",
            " 17  SEXO                                     44895 non-null  object \n",
            " 18  AÑO                                      44895 non-null  object \n",
            " 19  SEMESTRE                                 44895 non-null  float64\n",
            " 20  GRADUADOS                                10502 non-null  float64\n",
            " 21  ADMITIDOS                                17231 non-null  float64\n",
            " 22  PRIMER CURSO                             17162 non-null  float64\n",
            "dtypes: float64(12), object(11)\n",
            "memory usage: 8.2+ MB\n"
          ]
        }
      ]
    },
    {
      "cell_type": "code",
      "source": [
        "# Validar valores de columnas categorícas que decidimos dejar en el modelo\n",
        "\n",
        "print(df_Total['SECTOR IES'].unique()) #Listo\n",
        "print(df_Total['CARÁCTER IES'].unique()) #Listo\n",
        "print(df_Total['DEPARTAMENTO DE OFERTA DEL PROGRAMA'].unique()) #Listo\n",
        "print(df_Total['NIVEL ACADÉMICO'].unique())\n",
        "print(df_Total['NIVEL DE FORMACIÓN'].unique())\n",
        "print(df_Total['MODALIDAD'].unique())\n",
        "print(df_Total['DESC CINE CAMPO AMPLIO'].unique())\n",
        "print(df_Total['SEXO'].unique())"
      ],
      "metadata": {
        "colab": {
          "base_uri": "https://localhost:8080/"
        },
        "id": "KH7W9Oysb3BL",
        "outputId": "a6f658ba-5c36-4460-994c-1539af5de7cf"
      },
      "execution_count": 12,
      "outputs": [
        {
          "output_type": "stream",
          "name": "stdout",
          "text": [
            "['OFICIAL' 'PRIVADA' 'Oficial' 'Privado' 'Privada']\n",
            "['Universidad' 'Institución Universitaria/Escuela Tecnológica'\n",
            " 'Institución Tecnológica' 'Institución Técnica Profesional'\n",
            " 'INSTITUCIÓN UNIVERSITARIA/ESCUELA TECNOLÓGICA' 'UNIVERSIDAD'\n",
            " 'INSTITUCIÓN TECNOLÓGICA' 'INSTITUCIÓN TÉCNICA PROFESIONAL'\n",
            " 'INSTITUCION UNIVERSITARIA/ESCUELA TECNOLOGICA' 'INSTITUCION TECNOLOGICA'\n",
            " 'INSTITUCION TECNICA PROFESIONAL']\n",
            "['Bogotá, D.C.' 'Antioquia' 'Caldas' 'Boyacá' 'Cauca' 'Risaralda' 'Nariño'\n",
            " 'Huila' 'Caquetá' 'Meta' 'Cesar' 'Valle Del Cauca' 'Santander' 'Bolívar'\n",
            " 'Córdoba' 'Tolima' 'Quindío' 'Norte De Santander' 'Magdalena'\n",
            " 'Cundinamarca' 'La Guajira' 'Atlántico' 'Casanare' 'Sucre' 'Chocó'\n",
            " 'Putumayo' 'Archipiélago De San Andrés, Providencia Y Santa Catalina'\n",
            " 'Arauca' 'Vichada' 'Guaviare' 'Guainía' 'Bogotá D.C.' 'Valle del Cauca'\n",
            " 'Norte de Santander'\n",
            " 'Archipiélago de San Andrés, Providencia y Santa Catalina' 'Amazonas'\n",
            " 'ATLÁNTICO' 'CAQUETÁ' 'SANTANDER' 'RISARALDA' 'ANTIOQUIA' 'BOGOTÁ D.C.'\n",
            " 'PUTUMAYO' 'VALLE DEL CAUCA' 'GUAVIARE' 'LA GUAJIRA' 'BOYACÁ' 'CASANARE'\n",
            " 'ARAUCA' 'QUINDÍO' 'HUILA' 'CUNDINAMARCA' 'NORTE DE SANTANDER' 'BOLÍVAR'\n",
            " 'CÓRDOBA' 'CALDAS' 'NARIÑO' 'TOLIMA' 'META' 'CAUCA' 'SUCRE' 'CESAR'\n",
            " 'MAGDALENA' 'ARCHIPIÉLAGO DE SA' 'GUAINÍA' 'CHOCÓ' 'VICHADA' 'Vaupés'\n",
            " 'VAUPÉS' 'ARCHIPIÉLAGO DE SAN ANDRÉS, PROVIDENCIA Y SANTA CATALINA'\n",
            " 'AMAZONAS' 'BOYACA' 'BOLIVAR' 'NARINO' 'BOGOTA D.C.' 'QUINDIO'\n",
            " 'ATLANTICO' 'CORDOBA' 'CAQUETA' 'SAN ANDRES Y PROVIDENCIA' 'GUAINIA'\n",
            " 'CHOCO' 'NARINIO' 'BOGOTA D.C' 'GUAJIRA' 'SAN ANDRES Y PROVI'\n",
            " 'Bogotá D.C' 'Bolivar' 'Guajira' 'San Andrés y Providencia']\n",
            "['POSGRADO' 'PREGRADO' 'Posgrado' 'Pregrado']\n",
            "['Maestría' 'Doctorado' 'Especialización universitaria' 'Universitario'\n",
            " 'Tecnológico' 'Formación técnica profesional'\n",
            " 'Especialización tecnológica' 'Universitaria' 'Tecnológica'\n",
            " 'FORMACIÓN TÉCNICA PROFESIONAL' 'TECNOLÓGICA' 'MAESTRÍA'\n",
            " 'ESPECIALIZACIÓN TECNOLÓGICA' 'UNIVERSITARIA'\n",
            " 'ESPECIALIZACIÓN UNIVERSITARIA' 'DOCTORADO' 'TECNOLOGICA'\n",
            " 'FORMACION TECNICA PROFESIONAL' 'Especialización Universitaria'\n",
            " 'Especialización Tecnológica' 'MAESTRIA' 'ESPECIALIZACION'\n",
            " 'Formación Técnica Profesional']\n",
            "['Presencial' 'A distancia' 'Virtual' 'Distancia (tradicional)'\n",
            " 'Distancia (virtual)' 'Presencial-Virtual' 'PRESENCIAL'\n",
            " 'DISTANCIA (TRADICIONAL)' 'DISTANCIA (VIRTUAL)' 'Presencial-Dual'\n",
            " 'DISTANCIA (TRADICION' 'VIRTUAL' 'Presencial-Virtual-A distancia'\n",
            " 'A distancia (Tradicional)' 'A distancia (Virtual)']\n",
            "['Tecnologías de la Información y la Comunicación (TIC)'\n",
            " 'TECNOLOGÍAS DE LA INFORMACIÓN Y LA COMUNICACIÓN (TIC)']\n",
            "['Hombre' 'Mujer' 'Masculino' 'Femenino' 'HOMBRE' 'MUJER' 'NO INFORMA'\n",
            " 'FEMENINO' 'MASCULINO' 'Sin información' 'No binario']\n"
          ]
        }
      ]
    },
    {
      "cell_type": "markdown",
      "source": [
        "# *7. Crear diccionarios que homologuen los nombres de las columnas categoricas*"
      ],
      "metadata": {
        "id": "Tr41kgS_f5pc"
      }
    },
    {
      "cell_type": "code",
      "source": [
        "''' Crear una función que permite operar texto de forma optima para poder\n",
        "    homologar los datos de las columnas categoricas '''\n",
        "\n",
        "#Libreria util para operar texto, ya se tiene Re y Pandas Arriba\n",
        "import unicodedata\n",
        "\n",
        "def limpiar_formatear_nompropio(texto):\n",
        "    if pd.isnull(texto):\n",
        "        return texto\n",
        "\n",
        "    # Eliminar acentos\n",
        "    texto = unicodedata.normalize(\"NFKD\", texto).encode(\"ASCII\", \"ignore\").decode(\"utf-8\")\n",
        "\n",
        "    # Eliminar caracteres especiales (deja solo letras y espacios)\n",
        "    texto = re.sub(r\"[^a-zA-Z\\s]\", \"\", texto)\n",
        "\n",
        "    # Pasar a minúsculas\n",
        "    texto = texto.lower()\n",
        "\n",
        "    # Eliminar espacios múltiples\n",
        "    texto = re.sub(r\"\\s+\", \" \", texto).strip()\n",
        "\n",
        "    # Palabras que deben ir en minúscula si no son la primera\n",
        "    palabras_minusculas = {\"de\", \"la\", \"del\", \"y\", \"en\", \"el\", \"los\", \"las\", \"un\", \"una\"}\n",
        "\n",
        "    palabras = texto.split()\n",
        "    if not palabras:\n",
        "        return \"\"\n",
        "\n",
        "    resultado = [palabras[0].capitalize()] + [\n",
        "        p if p in palabras_minusculas else p.capitalize() for p in palabras[1:]\n",
        "    ]\n",
        "\n",
        "    return \" \".join(resultado)"
      ],
      "metadata": {
        "id": "uuU1poEtmk9Z"
      },
      "execution_count": 13,
      "outputs": []
    },
    {
      "cell_type": "code",
      "source": [
        "#Aplicar la función Anterior para Homologar en gran medida los datos\n",
        "df_Total['SECTOR IES'] = df_Total['SECTOR IES'].apply(limpiar_formatear_nompropio) #ok\n",
        "df_Total['CARÁCTER IES'] = df_Total['CARÁCTER IES'].apply(limpiar_formatear_nompropio) #ok\n",
        "df_Total['DEPARTAMENTO DE OFERTA DEL PROGRAMA'] = df_Total['DEPARTAMENTO DE OFERTA DEL PROGRAMA'].apply(limpiar_formatear_nompropio) #ok\n",
        "df_Total['NIVEL ACADÉMICO'] = df_Total['NIVEL ACADÉMICO'].apply(limpiar_formatear_nompropio) #ok\n",
        "df_Total['NIVEL DE FORMACIÓN'] = df_Total['NIVEL DE FORMACIÓN'].apply(limpiar_formatear_nompropio) #ok\n",
        "df_Total['MODALIDAD'] = df_Total['MODALIDAD'].apply(limpiar_formatear_nompropio) #ok\n",
        "df_Total['DESC CINE CAMPO AMPLIO'] = df_Total['DESC CINE CAMPO AMPLIO'].apply(limpiar_formatear_nompropio) #Ok\n",
        "df_Total['SEXO'] = df_Total['SEXO'].apply(limpiar_formatear_nompropio) #ok"
      ],
      "metadata": {
        "collapsed": true,
        "id": "s0y1voiagCYb"
      },
      "execution_count": 14,
      "outputs": []
    },
    {
      "cell_type": "code",
      "source": [
        "# Resolver Particularidades Sector IES\n",
        "df_Total['SECTOR IES'] = df_Total['SECTOR IES'].replace({\n",
        "    'Oficial':'Oficial',\n",
        "    'Privada':'Privada',\n",
        "    'Privado':'Privada'\n",
        "    })"
      ],
      "metadata": {
        "collapsed": true,
        "id": "4m8mCymTQV70"
      },
      "execution_count": 15,
      "outputs": []
    },
    {
      "cell_type": "code",
      "source": [
        "# Resolver particularidades Departamento\n",
        "df_Total['DEPARTAMENTO DE OFERTA DEL PROGRAMA'] = df_Total['DEPARTAMENTO DE OFERTA DEL PROGRAMA'].replace({\n",
        "    'Bogota Dc':'Bogota Dc',\n",
        "    'Antioquia':'Antioquia',\n",
        "    'Caldas':'Caldas',\n",
        "    'Boyaca':'Boyaca',\n",
        "    'Cauca':'Cauca',\n",
        "    'Risaralda':'Risaralda',\n",
        "    'Narino':'Narino',\n",
        "    'Huila':'Huila',\n",
        "    'Caqueta':'Caqueta',\n",
        "    'Meta':'Meta',\n",
        "    'Cesar':'Cesar',\n",
        "    'Valle del Cauca':'Valle del Cauca',\n",
        "    'Santander':'Santander',\n",
        "    'Bolivar':'Bolivar',\n",
        "    'Cordoba':'Cordoba',\n",
        "    'Tolima':'Tolima',\n",
        "    'Quindio':'Quindio',\n",
        "    'Norte de Santander':'Norte de Santander',\n",
        "    'Magdalena':'Magdalena',\n",
        "    'Cundinamarca':'Cundinamarca',\n",
        "    'La Guajira':'La Guajira',\n",
        "    'Atlantico':'Atlantico',\n",
        "    'Casanare':'Casanare',\n",
        "    'Sucre':'Sucre',\n",
        "    'Choco':'Choco',\n",
        "    'Putumayo':'Putumayo',\n",
        "    'Archipielago de San Andres Providencia y Santa Catalina':'San Andres Providencia y Santa Catalina',\n",
        "    'Arauca':'Arauca',\n",
        "    'Vichada':'Vichada',\n",
        "    'Guaviare':'Guaviare',\n",
        "    'Guainia':'Guainia',\n",
        "    'Amazonas':'Amazonas',\n",
        "    'Guainia':'Guainia',\n",
        "    'Amazonas' :'Amazonas',\n",
        "    'Archipielago de Sa':'San Andres Providencia y Santa Catalina',\n",
        "    'Vaupes':'Vaupes',\n",
        "    'San Andres y Providencia':'San Andres Providencia y Santa Catalina',\n",
        "    'Narinio':'Narino',\n",
        "    'Guajira':'La Guajira',\n",
        "    'San Andres y Provi':'San Andres y Provi'\n",
        "    })"
      ],
      "metadata": {
        "collapsed": true,
        "id": "FI2YNcCrSXfp"
      },
      "execution_count": 16,
      "outputs": []
    },
    {
      "cell_type": "code",
      "source": [
        "# Resolver particularidades Nivel de formación\n",
        "df_Total[\"NIVEL DE FORMACIÓN\"] = df_Total[\"NIVEL DE FORMACIÓN\"].apply(\n",
        "    lambda x: \"Universitario\" if x == \"Universitaria\"\n",
        "    else \"Tecnologico\" if x == \"Tecnologica\"\n",
        "    else \"Especializacion Universitaria\" if x == \"Especializacion\"\n",
        "    else x\n",
        ")"
      ],
      "metadata": {
        "id": "E5P5dXgAYVEM"
      },
      "execution_count": 17,
      "outputs": []
    },
    {
      "cell_type": "code",
      "source": [
        "# Resolver particularidades modalidad\n",
        "df_Total[\"MODALIDAD\"] = df_Total[\"MODALIDAD\"].apply(\n",
        "    lambda x: \"Hibrido\" if x == \"Presencialvirtual\"\n",
        "    else \"Hibrido\" if x == \"Presencialdual\"\n",
        "    else \"Hibrido\" if x == \"Presencialvirtuala Distancia\"\n",
        "    else \"A Distancia\" if x == \"Distancia Tradicional\"\n",
        "    else \"Virtual\" if x == \"Distancia Virtual\"\n",
        "    else \"A Distancia\" if x == \"Distancia Tradicion\"\n",
        "    else \"A Distancia\" if x == \"A Distancia Tradicional\"\n",
        "    else \"Virtual\" if x == \"A Distancia Virtual\"\n",
        "    else x)"
      ],
      "metadata": {
        "id": "YaRaabZUO2O3"
      },
      "execution_count": 25,
      "outputs": []
    },
    {
      "cell_type": "code",
      "source": [
        "# Resolver particularidades Sexo\n",
        "df_Total[\"SEXO\"] = df_Total[\"SEXO\"].apply(\n",
        "    lambda x: \"Femenino\" if x == \"Mujer\"\n",
        "    else \"Masculino\" if x == \"Hombre\"\n",
        "    else \"No Informa\" if x == \"Sin Informacion\"\n",
        "    else x)"
      ],
      "metadata": {
        "id": "aIqSVtdMTr8L"
      },
      "execution_count": 28,
      "outputs": []
    },
    {
      "cell_type": "code",
      "source": [
        "# Exportar df_Total como .csv separados por \",\"\n",
        "df_Total.to_csv('df_Total.csv', index=False, sep=',')"
      ],
      "metadata": {
        "id": "zuX8ieKMNQMC"
      },
      "execution_count": 30,
      "outputs": []
    }
  ]
}